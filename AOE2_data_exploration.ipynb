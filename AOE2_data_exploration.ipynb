{
  "nbformat": 4,
  "nbformat_minor": 0,
  "metadata": {
    "colab": {
      "name": "AOE2 data exploration",
      "provenance": [],
      "collapsed_sections": [],
      "authorship_tag": "ABX9TyN0i69bn1Vhl5s03lllbB/F",
      "include_colab_link": true
    },
    "kernelspec": {
      "name": "python3",
      "display_name": "Python 3"
    },
    "language_info": {
      "name": "python"
    }
  },
  "cells": [
    {
      "cell_type": "markdown",
      "metadata": {
        "id": "view-in-github",
        "colab_type": "text"
      },
      "source": [
        "<a href=\"https://colab.research.google.com/github/Volandum/AoE2-data/blob/main/AOE2_data_exploration.ipynb\" target=\"_parent\"><img src=\"https://colab.research.google.com/assets/colab-badge.svg\" alt=\"Open In Colab\"/></a>"
      ]
    },
    {
      "cell_type": "markdown",
      "source": [
        "Download and analysis of AOE2 data from the AOE2.net API: https://aoe2.net/#api\n",
        "\n",
        "First we'll need to download and save the data."
      ],
      "metadata": {
        "id": "s5qQ6Wcub11X"
      }
    },
    {
      "cell_type": "code",
      "execution_count": null,
      "metadata": {
        "colab": {
          "base_uri": "https://localhost:8080/",
          "height": 278
        },
        "id": "UHevtmcFa9k1",
        "outputId": "b04c9a22-bccf-423a-97d7-0e7e8a736694"
      },
      "outputs": [
        {
          "output_type": "stream",
          "name": "stdout",
          "text": [
            "Starting epoch:\n"
          ]
        },
        {
          "output_type": "error",
          "ename": "NameError",
          "evalue": "ignored",
          "traceback": [
            "\u001b[0;31m---------------------------------------------------------------------------\u001b[0m",
            "\u001b[0;31mNameError\u001b[0m                                 Traceback (most recent call last)",
            "\u001b[0;32m<ipython-input-2-3b0e747ab3e4>\u001b[0m in \u001b[0;36m<module>\u001b[0;34m()\u001b[0m\n\u001b[1;32m      7\u001b[0m \u001b[0;34m\u001b[0m\u001b[0m\n\u001b[1;32m      8\u001b[0m \u001b[0;31m#starting_epoch = int(time.mktime(time.strptime('2022-5-19 UTC','%Y-%m-%d %Z')) - 20000) # Use time.strptime('2020-8-7 UTC','%Y-%m-%d %Z') for user-readable datetimes, time.gmtime() is now.\u001b[0m\u001b[0;34m\u001b[0m\u001b[0;34m\u001b[0m\u001b[0;34m\u001b[0m\u001b[0m\n\u001b[0;32m----> 9\u001b[0;31m \u001b[0mprint\u001b[0m\u001b[0;34m(\u001b[0m\u001b[0;34m'Starting epoch:'\u001b[0m\u001b[0;34m)\u001b[0m\u001b[0;34m;\u001b[0m \u001b[0mprint\u001b[0m\u001b[0;34m(\u001b[0m\u001b[0mtime\u001b[0m\u001b[0;34m.\u001b[0m\u001b[0mgmtime\u001b[0m\u001b[0;34m(\u001b[0m\u001b[0mstarting_epoch\u001b[0m\u001b[0;34m)\u001b[0m\u001b[0;34m)\u001b[0m\u001b[0;34m\u001b[0m\u001b[0;34m\u001b[0m\u001b[0m\n\u001b[0m\u001b[1;32m     10\u001b[0m \u001b[0mmatches_per_batch\u001b[0m \u001b[0;34m=\u001b[0m \u001b[0;36m1000\u001b[0m \u001b[0;31m# Max 1000\u001b[0m\u001b[0;34m\u001b[0m\u001b[0;34m\u001b[0m\u001b[0m\n\u001b[1;32m     11\u001b[0m \u001b[0mmax_downloads\u001b[0m \u001b[0;34m=\u001b[0m \u001b[0;36m10000\u001b[0m\u001b[0;34m\u001b[0m\u001b[0;34m\u001b[0m\u001b[0m\n",
            "\u001b[0;31mNameError\u001b[0m: name 'starting_epoch' is not defined"
          ]
        }
      ],
      "source": [
        "# Parameters for download\n",
        "\n",
        "import time # Functions for handling epochs and making datetimes readable\n",
        "from json import loads # Parse imported data\n",
        "from requests import get # Download URLs to use the API\n",
        "import pickle # For saving out data\n",
        "\n",
        "#starting_epoch = int(time.mktime(time.strptime('2022-5-19 UTC','%Y-%m-%d %Z')) - 20000) # Use time.strptime('2020-8-7 UTC','%Y-%m-%d %Z') for user-readable datetimes, time.gmtime() is now.\n",
        "print('Starting epoch:'); print(time.gmtime(starting_epoch))\n",
        "matches_per_batch = 1000 # Max 1000\n",
        "max_downloads = 10000\n",
        "#end_epoch = int(time.mktime(time.gmtime())) # Stop either when max_downloads hit or end_epoch hit or no more games"
      ]
    },
    {
      "cell_type": "code",
      "source": [
        "# Helper functions for match data download\n",
        "\n",
        "def get_matches_list(count, epoch_from):\n",
        "  url = 'https://aoe2.net/api/matches?game=aoe2de&count=' + str(count) + '&since=' + str(epoch_from)\n",
        "  # Strings which need to be eval_able\n",
        "  return(loads(get(url).text))\n",
        "\n",
        "# The list comprehensions get expensive for large (multi-day) downloads, stagger into downloading and saving out individual days into pickles\n",
        "def get_matches(count, start_epoch, max_downloads, end_epoch):\n",
        "  current_epoch = start_epoch\n",
        "  matches_so_far = []\n",
        "  match_ids_so_far = []\n",
        "  for download_index in range(max_downloads):\n",
        "    downloaded_list = get_matches_list(count, current_epoch)\n",
        "    downloaded_match_ids = [match['match_id'] for match in downloaded_list]\n",
        "    new_match_ids = [match_id for match_id in downloaded_match_ids if match_id not in match_ids_so_far]\n",
        "    if len(new_match_ids) == 0:\n",
        "      break\n",
        "    new_matches = [downloaded_list[i] for i, match_id in enumerate(downloaded_match_ids) if match_id in new_match_ids]\n",
        "    current_epoch = max([match['opened'] for match in new_matches])\n",
        "    if current_epoch > end_epoch:\n",
        "      break # Note some matches may go past the end_epoch here\n",
        "    matches_so_far = matches_so_far + new_matches\n",
        "    match_ids_so_far = match_ids_so_far + new_match_ids\n",
        "  matches_to_return = [match for match in matches_so_far if match['opened'] <= end_epoch]\n",
        "  return matches_to_return\n",
        "\n",
        "def get_matches_for_ranges(epoch_range, count, max_downloads):\n",
        "  # Each epoch range is (start_epoch, end_epoch)\n",
        "  gotten_matches = get_matches(count, epoch_range[0], max_downloads, epoch_range[1])\n",
        "  filename = 'downloaded_raw_' + str(epoch_range[0]) + '_' + str(epoch_range[1]) + '.pkl'\n",
        "  with open(filename, 'wb') as outp:  # Overwrites any existing file.\n",
        "    pickle.dump(gotten_matches, outp, pickle.HIGHEST_PROTOCOL)\n",
        "    print(filename)\n",
        "  return(filename)"
      ],
      "metadata": {
        "id": "7SrZ7-K_cpgv"
      },
      "execution_count": null,
      "outputs": []
    },
    {
      "cell_type": "code",
      "source": [
        "# Get data from 2022-5-19 <= date < 2022-5-26 (1 week of data):\n",
        "# Using https://stackoverflow.com/a/23190286/11732165\n",
        "# Do another batch 2022-5-26 up to and not including 2022-6-3 \n",
        "import pandas as pd \n",
        "\n",
        "date_range_to_collect = date_range(start=\"2022-5-26\",end=\"2022-6-3\")\n",
        "epoch_points = list((date_range_to_collect - pd.Timestamp(\"1970-01-01\")) // pd.Timedelta(\"1s\"))\n",
        "epoch_ranges = [(epoch_points[i], epoch_points[i+1] - 1) for i in range(len(epoch_points) - 1)]\n",
        "filenames = [get_matches_for_ranges(epoch_range, matches_per_batch, max_downloads) for epoch_range in epoch_ranges]"
      ],
      "metadata": {
        "colab": {
          "base_uri": "https://localhost:8080/"
        },
        "id": "cYeUqRcd6T7V",
        "outputId": "18f8b255-22d6-4fa5-f851-ce4841543962"
      },
      "execution_count": null,
      "outputs": [
        {
          "output_type": "stream",
          "name": "stdout",
          "text": [
            "downloaded_raw_1653523200_1653609599.pkl\n",
            "downloaded_raw_1653609600_1653695999.pkl\n",
            "downloaded_raw_1653696000_1653782399.pkl\n",
            "downloaded_raw_1653782400_1653868799.pkl\n",
            "downloaded_raw_1653868800_1653955199.pkl\n",
            "downloaded_raw_1653955200_1654041599.pkl\n",
            "downloaded_raw_1654041600_1654127999.pkl\n",
            "downloaded_raw_1654128000_1654214399.pkl\n"
          ]
        }
      ]
    },
    {
      "cell_type": "code",
      "source": [
        "# Collate the data and save this out for now\n",
        "#match_list = []\n",
        "\n",
        "for filename in filenames:\n",
        "  with open(filename, 'rb') as inp:\n",
        "    match_list = match_list + pickle.load(inp)\n",
        "\n",
        "with open('temp_raw_data.pkl', 'wb') as outp:\n",
        "    pickle.dump(match_list, outp, pickle.HIGHEST_PROTOCOL)\n",
        "\n"
      ],
      "metadata": {
        "id": "7I-b2_Nqm7Pj"
      },
      "execution_count": null,
      "outputs": []
    },
    {
      "cell_type": "code",
      "source": [
        "# https://stackoverflow.com/a/57983757/11732165 suggests compressing the pickle file - it's much slower (3 mins for a week of data) but less unwieldy (16M vs 331M)\n",
        "\n",
        "import lzma\n",
        "with lzma.open(\"compressed_raw_data.xz\", \"wb\") as f:\n",
        "    pickle.dump(match_list, f, pickle.HIGHEST_PROTOCOL)\n"
      ],
      "metadata": {
        "id": "p8fCgVMOnEzl"
      },
      "execution_count": null,
      "outputs": []
    },
    {
      "cell_type": "code",
      "source": [
        "# Load from pickle\n",
        "\n",
        "with open('temp_raw_data.pkl', 'rb') as inp:\n",
        "    match_list = pickle.load(inp)\n"
      ],
      "metadata": {
        "id": "x4N_4_wK6R6U"
      },
      "execution_count": null,
      "outputs": []
    },
    {
      "cell_type": "code",
      "source": [
        "# Load from compressed pickle is pretty fast\n",
        "\n",
        "with lzma.open(\"compressed_raw_data.xz\", \"rb\") as f:\n",
        "    match_list = pickle.load(f)\n"
      ],
      "metadata": {
        "id": "435Ff9epnp9D"
      },
      "execution_count": null,
      "outputs": []
    },
    {
      "cell_type": "code",
      "source": [
        "# Load requisites for conversion to dataframe\n",
        "import pandas as pd\n",
        "import numpy as np"
      ],
      "metadata": {
        "id": "1EXWS21doX4b"
      },
      "execution_count": null,
      "outputs": []
    },
    {
      "cell_type": "code",
      "source": [
        "# Convert to a dataframe\n",
        "# We care about the fields:\n",
        "# match_id, match_uuid, num_players, name, ranked, started, finished\n",
        "def get_rating_range(players, want_min = True):\n",
        "  ratings = [player['rating'] for player in players]\n",
        "  ratings = [rating for rating in ratings if rating is not None]\n",
        "  if len(ratings) == 0:\n",
        "    return None\n",
        "  if want_min:\n",
        "    return(min(ratings))\n",
        "  else:\n",
        "    return(max(ratings))\n",
        "\n",
        "\n",
        "match_dataframe = \\\n",
        "  pd.DataFrame({'match_id': [match['match_id'] for match in match_list], \n",
        "                'match_uuid': [match['match_uuid'] for match in match_list],\n",
        "                'num_players': [match['num_players'] for match in match_list],\n",
        "                'name': [match['name'] for match in match_list],\n",
        "                'ranked': [match['ranked'] for match in match_list],\n",
        "                'started': [match['started'] for match in match_list],\n",
        "                'finished': [match['finished'] for match in match_list],\n",
        "                'min_rating': [get_rating_range(match['players'], True) for match in match_list],\n",
        "                'max_rating': [get_rating_range(match['players'], False) for match in match_list],\n",
        "                'p1_civ': [match['players'][0]['civ'] for match in match_list],\n",
        "                'plast_civ': [match['players'][-1]['civ'] for match in match_list],\n",
        "                'p1_rating': [match['players'][0]['rating'] for match in match_list],\n",
        "                'plast_rating': [match['players'][-1]['rating'] for match in match_list],\n",
        "                'p1_won': [match['players'][0]['won'] for match in match_list],\n",
        "                'plast_won': [match['players'][-1]['won'] for match in match_list]\n",
        "                })\n"
      ],
      "metadata": {
        "id": "h558wYBsnTBa"
      },
      "execution_count": null,
      "outputs": []
    },
    {
      "cell_type": "code",
      "source": [
        "restricted_match_dataframe = match_dataframe[(match_dataframe['name'] == 'AUTOMATCH') & (match_dataframe['num_players'] == 2) & \n",
        "                                             (match_dataframe['p1_rating'] >= 1200) & (match_dataframe['plast_rating'] >= 1200)].copy()\n",
        "restricted_match_dataframe['duration'] = restricted_match_dataframe['finished'] - restricted_match_dataframe['started']"
      ],
      "metadata": {
        "id": "ZlCTUA6FpQlQ"
      },
      "execution_count": null,
      "outputs": []
    },
    {
      "cell_type": "code",
      "source": [
        "# Reduce data to specific matchups and complete duration data\n",
        "\n",
        "further_restricted_df = restricted_match_dataframe[['duration', 'p1_civ', 'plast_civ', 'p1_rating', 'plast_rating', 'p1_won', 'plast_won']][restricted_match_dataframe['duration'].notnull()]\n",
        "further_restricted_df['p1_won'] = np.where(further_restricted_df['p1_won'], 1, 0)\n",
        "further_restricted_df['plast_won'] = np.where(further_restricted_df['plast_won'], 1, 0)\n",
        "new_data_df = pd.DataFrame({\n",
        "    'duration': further_restricted_df['duration'],\n",
        "    'civ1': np.where(further_restricted_df['p1_civ'] <= further_restricted_df['plast_civ'], further_restricted_df['p1_civ'], further_restricted_df['plast_civ']),\n",
        "    'civ2': np.where(further_restricted_df['p1_civ'] <= further_restricted_df['plast_civ'], further_restricted_df['plast_civ'], further_restricted_df['p1_civ']),\n",
        "    'civ1_rating': np.where(further_restricted_df['p1_civ'] <= further_restricted_df['plast_civ'], further_restricted_df['p1_rating'], further_restricted_df['plast_rating']),\n",
        "    'civ2_rating': np.where(further_restricted_df['p1_civ'] <= further_restricted_df['plast_civ'], further_restricted_df['plast_rating'], further_restricted_df['p1_rating']),\n",
        "    'civ1_won': np.where(further_restricted_df['p1_civ'] <= further_restricted_df['plast_civ'], further_restricted_df['p1_won'], further_restricted_df['plast_won']),\n",
        "    'civ2_won': np.where(further_restricted_df['p1_civ'] <= further_restricted_df['plast_civ'], further_restricted_df['plast_won'], further_restricted_df['p1_won']),\n",
        "})\n",
        "\n",
        "# Also data for if we just care about all non-mirror matchups for each faction\n",
        "new_data_df_flipped = pd.DataFrame({'duration': new_data_df['duration'],\n",
        "                                    'civ1': new_data_df['civ2'],\n",
        "                                    'civ2': new_data_df['civ1'],\n",
        "                                    'civ1_rating': new_data_df['civ2_rating'],\n",
        "                                    'civ2_rating': new_data_df['civ1_rating'],\n",
        "                                    'civ1_won': new_data_df['civ2_won'],\n",
        "                                    'civ2_won': new_data_df['civ1_won']})\n",
        "\n",
        "combined_data = pd.concat([new_data_df, new_data_df_flipped])\n",
        "combined_data = combined_data[combined_data['civ1'] != combined_data['civ2']]"
      ],
      "metadata": {
        "id": "3c9akywEyVTe"
      },
      "execution_count": null,
      "outputs": []
    },
    {
      "cell_type": "code",
      "source": [
        "# Get the civ lookup\n",
        "\n",
        "aoe2_strings = loads(get('https://aoe2.net/api/strings?game=aoe2de&language=en').text)\n",
        "civ_dataframe = pd.DataFrame({'civid': [string['id'] for string in aoe2_strings['civ']],\n",
        "                              'civstring': [string['string'] for string in aoe2_strings['civ']]})"
      ],
      "metadata": {
        "id": "kKsLIkC52F2i"
      },
      "execution_count": null,
      "outputs": []
    },
    {
      "cell_type": "code",
      "source": [
        "single_civ_matchup_df = combined_data = combined_data[combined_data['civ1'] != combined_data['civ2']] \\\n",
        "                 .merge(civ_dataframe.rename(columns = {'civid': 'civ1', 'civstring': 'civ1_name'}), how = 'left')"
      ],
      "metadata": {
        "id": "NGieA9dI75mr"
      },
      "execution_count": null,
      "outputs": []
    },
    {
      "cell_type": "code",
      "source": [
        "single_civ_match_count = single_civ_matchup_df.groupby(['civ1_name'])['duration'].count().reset_index(name=\"matches\")\n",
        "single_civ_outcome_counts = single_civ_matchup_df.groupby(['civ1_name', 'duration'], as_index=False)[['civ1_won', 'civ2_won']].sum().sort_values(['civ1_name', 'duration'])\n",
        "single_civ_outcome_counts['civ1_won_total'] = single_civ_outcome_counts.groupby(['civ1_name'])['civ1_won'].cumsum()\n",
        "single_civ_outcome_counts['civ2_won_total'] = single_civ_outcome_counts.groupby(['civ1_name'])['civ2_won'].cumsum()\n",
        "single_civ_outcome_counts_with_totals = single_civ_outcome_counts.merge(single_civ_match_count)\n",
        "single_civ_outcome_counts_with_totals['civ1_prop'] = single_civ_outcome_counts_with_totals['civ1_won_total'] / single_civ_outcome_counts_with_totals['matches']\n",
        "single_civ_outcome_counts_with_totals['civ2_prop'] = single_civ_outcome_counts_with_totals['civ2_won_total'] / single_civ_outcome_counts_with_totals['matches']\n",
        "single_civ_outcome_counts_with_totals['one_minus_civ2_prop'] = 1 - single_civ_outcome_counts_with_totals['civ2_prop']"
      ],
      "metadata": {
        "id": "VpTGgMns7-Rh"
      },
      "execution_count": null,
      "outputs": []
    },
    {
      "cell_type": "code",
      "source": [
        "#@title Single civilisation vs any other civ (distribution as observed), 1v1 ranked only\n",
        "# Using the Colab guide on interactive forms at https://colab.research.google.com/notebooks/forms.ipynb\n",
        "civ_dataframe.civstring.unique()\n",
        "civ_chosen = 'Teutons' #@param {type:\"string\"} ['Britons', 'Franks', 'Goths', 'Teutons', 'Japanese', 'Chinese','Byzantines', 'Persians', 'Saracens', 'Turks', 'Vikings','Mongols', 'Celts', 'Spanish', 'Aztecs', 'Mayans', 'Huns','Koreans', 'Italians', 'Hindustanis', 'Incas', 'Magyars', 'Slavs','Portuguese', 'Ethiopians', 'Malians', 'Berbers', 'Khmer', 'Malay','Burmese', 'Vietnamese', 'Bulgarians', 'Tatars', 'Cumans','Lithuanians', 'Burgundians', 'Sicilians', 'Poles', 'Bohemians','Dravidians', 'Bengalis', 'Gurjaras', 'Indians'] {allow-input: false}\n",
        "\n",
        "\n",
        "plot_data = single_civ_outcome_counts_with_totals[single_civ_outcome_counts_with_totals['civ1_name'] == civ_chosen].copy()\n",
        "plot_data['minutes'] = plot_data['duration'] / 60\n",
        "import matplotlib.pyplot as plt\n",
        "plt.plot(plot_data['minutes'], plot_data['civ1_prop'], label = civ_chosen + '_wins')\n",
        "plt.plot(plot_data['minutes'], plot_data['civ2_prop'], label = 'other_civ_wins')\n",
        "plt.axhline(y=0.5)\n",
        "plt.xlim((0,60))\n",
        "plt.legend()\n",
        "plt.show()\n",
        "\n",
        "print('Out of ' + str(plot_data.matches.max()) + ' games the ' + civ_chosen + \n",
        "      ' won ' + str(plot_data.civ1_won_total.max()) + ' and lost ' + str(plot_data.civ2_won_total.max()) + '. ' +\n",
        "      'Out of the concluded games the win rate was ' + str((plot_data.civ1_won_total.max() / (plot_data.civ1_won_total.max() + plot_data.civ2_won_total.max()) * 1000) // 1 / 10) + '%.')\n"
      ],
      "metadata": {
        "colab": {
          "base_uri": "https://localhost:8080/",
          "height": 283
        },
        "id": "0xQFk9qx9Uks",
        "outputId": "56fcdd34-7e7c-4da2-c3b4-33922e76fd62"
      },
      "execution_count": null,
      "outputs": [
        {
          "output_type": "display_data",
          "data": {
            "text/plain": [
              "<Figure size 432x288 with 1 Axes>"
            ],
            "image/png": "[encoded data removed]"
          },
          "metadata": {
            "needs_background": "light"
          }
        },
        {
          "output_type": "stream",
          "name": "stdout",
          "text": [
            "Out of 3674 games the Teutons won 1824 and lost 1836. Out of the concluded games the win rate was 49.8%.\n"
          ]
        }
      ]
    },
    {
      "cell_type": "code",
      "source": [
        "civ_matchup_df = combined_data \\\n",
        "                 .merge(civ_dataframe.rename(columns = {'civid': 'civ1', 'civstring': 'civ1_name'}), how = 'left') \\\n",
        "                 .merge(civ_dataframe.rename(columns = {'civid': 'civ2', 'civstring': 'civ2_name'}), how = 'left')"
      ],
      "metadata": {
        "id": "QZbV9AzP2-sy"
      },
      "execution_count": null,
      "outputs": []
    },
    {
      "cell_type": "code",
      "source": [
        "# Compute a K-M curve\n",
        "further_restricted_df.head()\n",
        "\n",
        "# We want to group by duration, count up p1_won and plast_won\n",
        "# Then order by duration and calculate the cumsums\n",
        "# Then we can plot\n",
        "match_count = civ_matchup_df.groupby(['civ1_name','civ2_name'])['duration'].count().reset_index(name=\"matches\")\n",
        "outcome_counts = civ_matchup_df.groupby(['civ1_name', 'civ2_name', 'duration'], as_index=False)[['civ1_won', 'civ2_won']].sum().sort_values(['civ1_name', 'civ2_name', 'duration'])\n",
        "outcome_counts['civ1_won_total'] = outcome_counts.groupby(['civ1_name', 'civ2_name'])['civ1_won'].cumsum()\n",
        "outcome_counts['civ2_won_total'] = outcome_counts.groupby(['civ1_name', 'civ2_name'])['civ2_won'].cumsum()\n",
        "outcome_counts_with_totals = outcome_counts.merge(match_count)\n",
        "outcome_counts_with_totals['civ1_prop'] = outcome_counts_with_totals['civ1_won_total'] / outcome_counts_with_totals['matches']\n",
        "outcome_counts_with_totals['civ2_prop'] = outcome_counts_with_totals['civ2_won_total'] / outcome_counts_with_totals['matches']\n",
        "outcome_counts_with_totals['one_minus_civ2_prop'] = 1 - outcome_counts_with_totals['civ2_prop']\n",
        "\n"
      ],
      "metadata": {
        "id": "W-gqu3Y-sW3Z"
      },
      "execution_count": null,
      "outputs": []
    },
    {
      "cell_type": "code",
      "source": [
        "outcome_counts_with_totals"
      ],
      "metadata": {
        "colab": {
          "base_uri": "https://localhost:8080/",
          "height": 423
        },
        "id": "6aTAHM4JzOWi",
        "outputId": "7f2f8a4c-533f-4c8c-b44c-ae1bfe3e7f5d"
      },
      "execution_count": null,
      "outputs": [
        {
          "output_type": "execute_result",
          "data": {
            "text/plain": [
              "       civ1_name   civ2_name  duration  civ1_won  civ2_won  civ1_won_total  \\\n",
              "0         Aztecs    Bengalis     196.0         1         0               1   \n",
              "1         Aztecs    Bengalis     496.0         1         0               2   \n",
              "2         Aztecs    Bengalis     683.0         0         1               2   \n",
              "3         Aztecs    Bengalis     845.0         1         0               3   \n",
              "4         Aztecs    Bengalis     851.0         0         1               3   \n",
              "...          ...         ...       ...       ...       ...             ...   \n",
              "156967   Vikings  Vietnamese    2281.0         0         1              29   \n",
              "156968   Vikings  Vietnamese    2319.0         0         1              29   \n",
              "156969   Vikings  Vietnamese    2416.0         0         1              29   \n",
              "156970   Vikings  Vietnamese    2606.0         0         1              29   \n",
              "156971   Vikings  Vietnamese    2785.0         1         0              30   \n",
              "\n",
              "        civ2_won_total  matches  civ1_prop  civ2_prop  one_minus_civ2_prop  \n",
              "0                    0       45   0.022222   0.000000             1.000000  \n",
              "1                    0       45   0.044444   0.000000             1.000000  \n",
              "2                    1       45   0.044444   0.022222             0.977778  \n",
              "3                    1       45   0.066667   0.022222             0.977778  \n",
              "4                    2       45   0.066667   0.044444             0.955556  \n",
              "...                ...      ...        ...        ...                  ...  \n",
              "156967              23       56   0.517857   0.410714             0.589286  \n",
              "156968              24       56   0.517857   0.428571             0.571429  \n",
              "156969              25       56   0.517857   0.446429             0.553571  \n",
              "156970              26       56   0.517857   0.464286             0.535714  \n",
              "156971              26       56   0.535714   0.464286             0.535714  \n",
              "\n",
              "[156972 rows x 11 columns]"
            ],
            "text/html": [
              "\n",
              "  <div id=\"df-2493534d-f235-4dc5-995a-d55c27bad47f\">\n",
              "    <div class=\"colab-df-container\">\n",
              "      <div>\n",
              "<style scoped>\n",
              "    .dataframe tbody tr th:only-of-type {\n",
              "        vertical-align: middle;\n",
              "    }\n",
              "\n",
              "    .dataframe tbody tr th {\n",
              "        vertical-align: top;\n",
              "    }\n",
              "\n",
              "    .dataframe thead th {\n",
              "        text-align: right;\n",
              "    }\n",
              "</style>\n",
              "<table border=\"1\" class=\"dataframe\">\n",
              "  <thead>\n",
              "    <tr style=\"text-align: right;\">\n",
              "      <th></th>\n",
              "      <th>civ1_name</th>\n",
              "      <th>civ2_name</th>\n",
              "      <th>duration</th>\n",
              "      <th>civ1_won</th>\n",
              "      <th>civ2_won</th>\n",
              "      <th>civ1_won_total</th>\n",
              "      <th>civ2_won_total</th>\n",
              "      <th>matches</th>\n",
              "      <th>civ1_prop</th>\n",
              "      <th>civ2_prop</th>\n",
              "      <th>one_minus_civ2_prop</th>\n",
              "    </tr>\n",
              "  </thead>\n",
              "  <tbody>\n",
              "    <tr>\n",
              "      <th>0</th>\n",
              "      <td>Aztecs</td>\n",
              "      <td>Bengalis</td>\n",
              "      <td>196.0</td>\n",
              "      <td>1</td>\n",
              "      <td>0</td>\n",
              "      <td>1</td>\n",
              "      <td>0</td>\n",
              "      <td>45</td>\n",
              "      <td>0.022222</td>\n",
              "      <td>0.000000</td>\n",
              "      <td>1.000000</td>\n",
              "    </tr>\n",
              "    <tr>\n",
              "      <th>1</th>\n",
              "      <td>Aztecs</td>\n",
              "      <td>Bengalis</td>\n",
              "      <td>496.0</td>\n",
              "      <td>1</td>\n",
              "      <td>0</td>\n",
              "      <td>2</td>\n",
              "      <td>0</td>\n",
              "      <td>45</td>\n",
              "      <td>0.044444</td>\n",
              "      <td>0.000000</td>\n",
              "      <td>1.000000</td>\n",
              "    </tr>\n",
              "    <tr>\n",
              "      <th>2</th>\n",
              "      <td>Aztecs</td>\n",
              "      <td>Bengalis</td>\n",
              "      <td>683.0</td>\n",
              "      <td>0</td>\n",
              "      <td>1</td>\n",
              "      <td>2</td>\n",
              "      <td>1</td>\n",
              "      <td>45</td>\n",
              "      <td>0.044444</td>\n",
              "      <td>0.022222</td>\n",
              "      <td>0.977778</td>\n",
              "    </tr>\n",
              "    <tr>\n",
              "      <th>3</th>\n",
              "      <td>Aztecs</td>\n",
              "      <td>Bengalis</td>\n",
              "      <td>845.0</td>\n",
              "      <td>1</td>\n",
              "      <td>0</td>\n",
              "      <td>3</td>\n",
              "      <td>1</td>\n",
              "      <td>45</td>\n",
              "      <td>0.066667</td>\n",
              "      <td>0.022222</td>\n",
              "      <td>0.977778</td>\n",
              "    </tr>\n",
              "    <tr>\n",
              "      <th>4</th>\n",
              "      <td>Aztecs</td>\n",
              "      <td>Bengalis</td>\n",
              "      <td>851.0</td>\n",
              "      <td>0</td>\n",
              "      <td>1</td>\n",
              "      <td>3</td>\n",
              "      <td>2</td>\n",
              "      <td>45</td>\n",
              "      <td>0.066667</td>\n",
              "      <td>0.044444</td>\n",
              "      <td>0.955556</td>\n",
              "    </tr>\n",
              "    <tr>\n",
              "      <th>...</th>\n",
              "      <td>...</td>\n",
              "      <td>...</td>\n",
              "      <td>...</td>\n",
              "      <td>...</td>\n",
              "      <td>...</td>\n",
              "      <td>...</td>\n",
              "      <td>...</td>\n",
              "      <td>...</td>\n",
              "      <td>...</td>\n",
              "      <td>...</td>\n",
              "      <td>...</td>\n",
              "    </tr>\n",
              "    <tr>\n",
              "      <th>156967</th>\n",
              "      <td>Vikings</td>\n",
              "      <td>Vietnamese</td>\n",
              "      <td>2281.0</td>\n",
              "      <td>0</td>\n",
              "      <td>1</td>\n",
              "      <td>29</td>\n",
              "      <td>23</td>\n",
              "      <td>56</td>\n",
              "      <td>0.517857</td>\n",
              "      <td>0.410714</td>\n",
              "      <td>0.589286</td>\n",
              "    </tr>\n",
              "    <tr>\n",
              "      <th>156968</th>\n",
              "      <td>Vikings</td>\n",
              "      <td>Vietnamese</td>\n",
              "      <td>2319.0</td>\n",
              "      <td>0</td>\n",
              "      <td>1</td>\n",
              "      <td>29</td>\n",
              "      <td>24</td>\n",
              "      <td>56</td>\n",
              "      <td>0.517857</td>\n",
              "      <td>0.428571</td>\n",
              "      <td>0.571429</td>\n",
              "    </tr>\n",
              "    <tr>\n",
              "      <th>156969</th>\n",
              "      <td>Vikings</td>\n",
              "      <td>Vietnamese</td>\n",
              "      <td>2416.0</td>\n",
              "      <td>0</td>\n",
              "      <td>1</td>\n",
              "      <td>29</td>\n",
              "      <td>25</td>\n",
              "      <td>56</td>\n",
              "      <td>0.517857</td>\n",
              "      <td>0.446429</td>\n",
              "      <td>0.553571</td>\n",
              "    </tr>\n",
              "    <tr>\n",
              "      <th>156970</th>\n",
              "      <td>Vikings</td>\n",
              "      <td>Vietnamese</td>\n",
              "      <td>2606.0</td>\n",
              "      <td>0</td>\n",
              "      <td>1</td>\n",
              "      <td>29</td>\n",
              "      <td>26</td>\n",
              "      <td>56</td>\n",
              "      <td>0.517857</td>\n",
              "      <td>0.464286</td>\n",
              "      <td>0.535714</td>\n",
              "    </tr>\n",
              "    <tr>\n",
              "      <th>156971</th>\n",
              "      <td>Vikings</td>\n",
              "      <td>Vietnamese</td>\n",
              "      <td>2785.0</td>\n",
              "      <td>1</td>\n",
              "      <td>0</td>\n",
              "      <td>30</td>\n",
              "      <td>26</td>\n",
              "      <td>56</td>\n",
              "      <td>0.535714</td>\n",
              "      <td>0.464286</td>\n",
              "      <td>0.535714</td>\n",
              "    </tr>\n",
              "  </tbody>\n",
              "</table>\n",
              "<p>156972 rows × 11 columns</p>\n",
              "</div>\n",
              "      <button class=\"colab-df-convert\" onclick=\"convertToInteractive('df-2493534d-f235-4dc5-995a-d55c27bad47f')\"\n",
              "              title=\"Convert this dataframe to an interactive table.\"\n",
              "              style=\"display:none;\">\n",
              "        \n",
              "  <svg xmlns=\"http://www.w3.org/2000/svg\" height=\"24px\"viewBox=\"0 0 24 24\"\n",
              "       width=\"24px\">\n",
              "    <path d=\"M0 0h24v24H0V0z\" fill=\"none\"/>\n",
              "    <path d=\"M18.56 5.44l.94 2.06.94-2.06 2.06-.94-2.06-.94-.94-2.06-.94 2.06-2.06.94zm-11 1L8.5 8.5l.94-2.06 2.06-.94-2.06-.94L8.5 2.5l-.94 2.06-2.06.94zm10 10l.94 2.06.94-2.06 2.06-.94-2.06-.94-.94-2.06-.94 2.06-2.06.94z\"/><path d=\"M17.41 7.96l-1.37-1.37c-.4-.4-.92-.59-1.43-.59-.52 0-1.04.2-1.43.59L10.3 9.45l-7.72 7.72c-.78.78-.78 2.05 0 2.83L4 21.41c.39.39.9.59 1.41.59.51 0 1.02-.2 1.41-.59l7.78-7.78 2.81-2.81c.8-.78.8-2.07 0-2.86zM5.41 20L4 18.59l7.72-7.72 1.47 1.35L5.41 20z\"/>\n",
              "  </svg>\n",
              "      </button>\n",
              "      \n",
              "  <style>\n",
              "    .colab-df-container {\n",
              "      display:flex;\n",
              "      flex-wrap:wrap;\n",
              "      gap: 12px;\n",
              "    }\n",
              "\n",
              "    .colab-df-convert {\n",
              "      background-color: #E8F0FE;\n",
              "      border: none;\n",
              "      border-radius: 50%;\n",
              "      cursor: pointer;\n",
              "      display: none;\n",
              "      fill: #1967D2;\n",
              "      height: 32px;\n",
              "      padding: 0 0 0 0;\n",
              "      width: 32px;\n",
              "    }\n",
              "\n",
              "    .colab-df-convert:hover {\n",
              "      background-color: #E2EBFA;\n",
              "      box-shadow: 0px 1px 2px rgba(60, 64, 67, 0.3), 0px 1px 3px 1px rgba(60, 64, 67, 0.15);\n",
              "      fill: #174EA6;\n",
              "    }\n",
              "\n",
              "    [theme=dark] .colab-df-convert {\n",
              "      background-color: #3B4455;\n",
              "      fill: #D2E3FC;\n",
              "    }\n",
              "\n",
              "    [theme=dark] .colab-df-convert:hover {\n",
              "      background-color: #434B5C;\n",
              "      box-shadow: 0px 1px 3px 1px rgba(0, 0, 0, 0.15);\n",
              "      filter: drop-shadow(0px 1px 2px rgba(0, 0, 0, 0.3));\n",
              "      fill: #FFFFFF;\n",
              "    }\n",
              "  </style>\n",
              "\n",
              "      <script>\n",
              "        const buttonEl =\n",
              "          document.querySelector('#df-2493534d-f235-4dc5-995a-d55c27bad47f button.colab-df-convert');\n",
              "        buttonEl.style.display =\n",
              "          google.colab.kernel.accessAllowed ? 'block' : 'none';\n",
              "\n",
              "        async function convertToInteractive(key) {\n",
              "          const element = document.querySelector('#df-2493534d-f235-4dc5-995a-d55c27bad47f');\n",
              "          const dataTable =\n",
              "            await google.colab.kernel.invokeFunction('convertToInteractive',\n",
              "                                                     [key], {});\n",
              "          if (!dataTable) return;\n",
              "\n",
              "          const docLinkHtml = 'Like what you see? Visit the ' +\n",
              "            '<a target=\"_blank\" href=https://colab.research.google.com/notebooks/data_table.ipynb>data table notebook</a>'\n",
              "            + ' to learn more about interactive tables.';\n",
              "          element.innerHTML = '';\n",
              "          dataTable['output_type'] = 'display_data';\n",
              "          await google.colab.output.renderOutput(dataTable, element);\n",
              "          const docLink = document.createElement('div');\n",
              "          docLink.innerHTML = docLinkHtml;\n",
              "          element.appendChild(docLink);\n",
              "        }\n",
              "      </script>\n",
              "    </div>\n",
              "  </div>\n",
              "  "
            ]
          },
          "metadata": {},
          "execution_count": 87
        }
      ]
    },
    {
      "cell_type": "code",
      "source": [
        "#@title Pair-of-civilisations matchups (distribution as observed), 1v1 ranked only\n",
        "# Plot the curve\n",
        "civ_dataframe.civstring.unique()\n",
        "first_civ = 'Spanish' #@param {type:\"string\"} ['Britons', 'Franks', 'Goths', 'Teutons', 'Japanese', 'Chinese','Byzantines', 'Persians', 'Saracens', 'Turks', 'Vikings','Mongols', 'Celts', 'Spanish', 'Aztecs', 'Mayans', 'Huns','Koreans', 'Italians', 'Hindustanis', 'Incas', 'Magyars', 'Slavs','Portuguese', 'Ethiopians', 'Malians', 'Berbers', 'Khmer', 'Malay','Burmese', 'Vietnamese', 'Bulgarians', 'Tatars', 'Cumans','Lithuanians', 'Burgundians', 'Sicilians', 'Poles', 'Bohemians','Dravidians', 'Bengalis', 'Gurjaras', 'Indians'] {allow-input: false}\n",
        "second_civ = 'Teutons' #@param {type:\"string\"} ['Britons', 'Franks', 'Goths', 'Teutons', 'Japanese', 'Chinese','Byzantines', 'Persians', 'Saracens', 'Turks', 'Vikings','Mongols', 'Celts', 'Spanish', 'Aztecs', 'Mayans', 'Huns','Koreans', 'Italians', 'Hindustanis', 'Incas', 'Magyars', 'Slavs','Portuguese', 'Ethiopians', 'Malians', 'Berbers', 'Khmer', 'Malay','Burmese', 'Vietnamese', 'Bulgarians', 'Tatars', 'Cumans','Lithuanians', 'Burgundians', 'Sicilians', 'Poles', 'Bohemians','Dravidians', 'Bengalis', 'Gurjaras', 'Indians'] {allow-input: false}\n",
        "\n",
        "plot_data = outcome_counts_with_totals[(outcome_counts_with_totals['civ1_name'] == first_civ) & (outcome_counts_with_totals['civ2_name'] == second_civ)].copy()\n",
        "plot_data['minutes'] = plot_data['duration'] / 60\n",
        "import matplotlib.pyplot as plt\n",
        "plt.plot(plot_data['minutes'], plot_data['civ1_prop'], label = first_civ+'_wins')\n",
        "plt.plot(plot_data['minutes'], plot_data['civ2_prop'], label = second_civ+'_wins')\n",
        "plt.axhline(y=0.5)\n",
        "plt.xlim((0,60))\n",
        "plt.show()\n",
        "\n",
        "print('Out of ' + str(plot_data.matches.max()) + ' games the ' + first_civ + \n",
        "      ' won ' + str(plot_data.civ1_won_total.max()) + ' and lost ' + str(plot_data.civ2_won_total.max()) + '. ' +\n",
        "      'Out of the concluded games the win rate was ' + str((plot_data.civ1_won_total.max() / (plot_data.civ1_won_total.max() + plot_data.civ2_won_total.max()) * 1000) // 1 / 10) + '%.')\n"
      ],
      "metadata": {
        "colab": {
          "base_uri": "https://localhost:8080/",
          "height": 283
        },
        "id": "ymPCixp0xAXS",
        "outputId": "fd728cc3-552f-4f97-a0eb-b429541fdede"
      },
      "execution_count": null,
      "outputs": [
        {
          "output_type": "display_data",
          "data": {
            "text/plain": [
              "<Figure size 432x288 with 1 Axes>"
            ],
            "image/png": "[encoded data removed]"
          },
          "metadata": {
            "needs_background": "light"
          }
        },
        {
          "output_type": "stream",
          "name": "stdout",
          "text": [
            "Out of 131 games the Spanish won 82 and lost 48. Out of the concluded games the win rate was 63.0%.\n"
          ]
        }
      ]
    },
    {
      "cell_type": "code",
      "source": [
        "# How about just doing some histograms?\n",
        "\n",
        "civ_matchup_df_for_histogram = civ_matchup_df.copy()\n",
        "civ_matchup_df['winning_civ'] = np.where(civ_matchup_df_for_histogram['civ1_won'] == 1, \n",
        "                                         civ_matchup_df_for_histogram['civ1_name'],\n",
        "                                         np.where(civ_matchup_df_for_histogram['civ2_won'] == 1,\n",
        "                                                  civ_matchup_df_for_histogram['civ2_name'],\n",
        "                                                  'Neither'))"
      ],
      "metadata": {
        "id": "cbQravkH-0P6"
      },
      "execution_count": null,
      "outputs": []
    },
    {
      "cell_type": "code",
      "source": [
        "import seaborn as sns\n",
        "\n",
        "#@title Pair-of-civilisations matchups (distribution as observed), 1v1 ranked only\n",
        "# Plot histograms\n",
        "civ_dataframe.civstring.unique()\n",
        "first_civ = 'Spanish' #@param {type:\"string\"} ['Britons', 'Franks', 'Goths', 'Teutons', 'Japanese', 'Chinese','Byzantines', 'Persians', 'Saracens', 'Turks', 'Vikings','Mongols', 'Celts', 'Spanish', 'Aztecs', 'Mayans', 'Huns','Koreans', 'Italians', 'Hindustanis', 'Incas', 'Magyars', 'Slavs','Portuguese', 'Ethiopians', 'Malians', 'Berbers', 'Khmer', 'Malay','Burmese', 'Vietnamese', 'Bulgarians', 'Tatars', 'Cumans','Lithuanians', 'Burgundians', 'Sicilians', 'Poles', 'Bohemians','Dravidians', 'Bengalis', 'Gurjaras', 'Indians'] {allow-input: false}\n",
        "second_civ = 'Teutons' #@param {type:\"string\"} ['Britons', 'Franks', 'Goths', 'Teutons', 'Japanese', 'Chinese','Byzantines', 'Persians', 'Saracens', 'Turks', 'Vikings','Mongols', 'Celts', 'Spanish', 'Aztecs', 'Mayans', 'Huns','Koreans', 'Italians', 'Hindustanis', 'Incas', 'Magyars', 'Slavs','Portuguese', 'Ethiopians', 'Malians', 'Berbers', 'Khmer', 'Malay','Burmese', 'Vietnamese', 'Bulgarians', 'Tatars', 'Cumans','Lithuanians', 'Burgundians', 'Sicilians', 'Poles', 'Bohemians','Dravidians', 'Bengalis', 'Gurjaras', 'Indians'] {allow-input: false}\n",
        "\n",
        "histogram_data = civ_matchup_df[(civ_matchup_df['civ1_name'] == first_civ) & (civ_matchup_df['civ2_name'] == second_civ)].copy()\n",
        "histogram_data['minutes'] = histogram_data['duration'] / 60\n",
        "sns.displot(data=histogram_data, x=\"minutes\", hue=\"winning_civ\", kde=True)\n",
        "\n"
      ],
      "metadata": {
        "colab": {
          "base_uri": "https://localhost:8080/",
          "height": 654
        },
        "cellView": "form",
        "id": "TRfqs2Ew_-AK",
        "outputId": "ec0ad589-63fe-49f4-dd15-df8d030e9040"
      },
      "execution_count": null,
      "outputs": [
        {
          "output_type": "execute_result",
          "data": {
            "text/plain": [
              "        duration  civ1  civ2  civ1_rating  civ2_rating  civ1_won  civ2_won  \\\n",
              "82171     1132.0  14.0   4.0       1456.0       1535.0         0         1   \n",
              "82247     1226.0  14.0   4.0       1423.0       1536.0         1         0   \n",
              "85901     1471.0  14.0   4.0       1356.0       1385.0         1         0   \n",
              "86764     1067.0  14.0   4.0       1367.0       1365.0         1         0   \n",
              "87235     1849.0  14.0   4.0       1353.0       1391.0         1         0   \n",
              "...          ...   ...   ...          ...          ...       ...       ...   \n",
              "160645     699.0  14.0   4.0       1326.0       1311.0         0         1   \n",
              "160738    1229.0  14.0   4.0       1238.0       1218.0         1         0   \n",
              "160949    2139.0  14.0   4.0       1377.0       1389.0         0         1   \n",
              "161462     912.0  14.0   4.0       1469.0       1508.0         1         0   \n",
              "161509    1764.0  14.0   4.0       1308.0       1304.0         0         1   \n",
              "\n",
              "       civ1_name civ2_name winning_civ    minutes  \n",
              "82171    Spanish   Teutons     Teutons  18.866667  \n",
              "82247    Spanish   Teutons     Spanish  20.433333  \n",
              "85901    Spanish   Teutons     Spanish  24.516667  \n",
              "86764    Spanish   Teutons     Spanish  17.783333  \n",
              "87235    Spanish   Teutons     Spanish  30.816667  \n",
              "...          ...       ...         ...        ...  \n",
              "160645   Spanish   Teutons     Teutons  11.650000  \n",
              "160738   Spanish   Teutons     Spanish  20.483333  \n",
              "160949   Spanish   Teutons     Teutons  35.650000  \n",
              "161462   Spanish   Teutons     Spanish  15.200000  \n",
              "161509   Spanish   Teutons     Teutons  29.400000  \n",
              "\n",
              "[131 rows x 11 columns]"
            ],
            "text/html": [
              "\n",
              "  <div id=\"df-7d3f5399-41da-4093-a1c0-5e9a0bca3078\">\n",
              "    <div class=\"colab-df-container\">\n",
              "      <div>\n",
              "<style scoped>\n",
              "    .dataframe tbody tr th:only-of-type {\n",
              "        vertical-align: middle;\n",
              "    }\n",
              "\n",
              "    .dataframe tbody tr th {\n",
              "        vertical-align: top;\n",
              "    }\n",
              "\n",
              "    .dataframe thead th {\n",
              "        text-align: right;\n",
              "    }\n",
              "</style>\n",
              "<table border=\"1\" class=\"dataframe\">\n",
              "  <thead>\n",
              "    <tr style=\"text-align: right;\">\n",
              "      <th></th>\n",
              "      <th>duration</th>\n",
              "      <th>civ1</th>\n",
              "      <th>civ2</th>\n",
              "      <th>civ1_rating</th>\n",
              "      <th>civ2_rating</th>\n",
              "      <th>civ1_won</th>\n",
              "      <th>civ2_won</th>\n",
              "      <th>civ1_name</th>\n",
              "      <th>civ2_name</th>\n",
              "      <th>winning_civ</th>\n",
              "      <th>minutes</th>\n",
              "    </tr>\n",
              "  </thead>\n",
              "  <tbody>\n",
              "    <tr>\n",
              "      <th>82171</th>\n",
              "      <td>1132.0</td>\n",
              "      <td>14.0</td>\n",
              "      <td>4.0</td>\n",
              "      <td>1456.0</td>\n",
              "      <td>1535.0</td>\n",
              "      <td>0</td>\n",
              "      <td>1</td>\n",
              "      <td>Spanish</td>\n",
              "      <td>Teutons</td>\n",
              "      <td>Teutons</td>\n",
              "      <td>18.866667</td>\n",
              "    </tr>\n",
              "    <tr>\n",
              "      <th>82247</th>\n",
              "      <td>1226.0</td>\n",
              "      <td>14.0</td>\n",
              "      <td>4.0</td>\n",
              "      <td>1423.0</td>\n",
              "      <td>1536.0</td>\n",
              "      <td>1</td>\n",
              "      <td>0</td>\n",
              "      <td>Spanish</td>\n",
              "      <td>Teutons</td>\n",
              "      <td>Spanish</td>\n",
              "      <td>20.433333</td>\n",
              "    </tr>\n",
              "    <tr>\n",
              "      <th>85901</th>\n",
              "      <td>1471.0</td>\n",
              "      <td>14.0</td>\n",
              "      <td>4.0</td>\n",
              "      <td>1356.0</td>\n",
              "      <td>1385.0</td>\n",
              "      <td>1</td>\n",
              "      <td>0</td>\n",
              "      <td>Spanish</td>\n",
              "      <td>Teutons</td>\n",
              "      <td>Spanish</td>\n",
              "      <td>24.516667</td>\n",
              "    </tr>\n",
              "    <tr>\n",
              "      <th>86764</th>\n",
              "      <td>1067.0</td>\n",
              "      <td>14.0</td>\n",
              "      <td>4.0</td>\n",
              "      <td>1367.0</td>\n",
              "      <td>1365.0</td>\n",
              "      <td>1</td>\n",
              "      <td>0</td>\n",
              "      <td>Spanish</td>\n",
              "      <td>Teutons</td>\n",
              "      <td>Spanish</td>\n",
              "      <td>17.783333</td>\n",
              "    </tr>\n",
              "    <tr>\n",
              "      <th>87235</th>\n",
              "      <td>1849.0</td>\n",
              "      <td>14.0</td>\n",
              "      <td>4.0</td>\n",
              "      <td>1353.0</td>\n",
              "      <td>1391.0</td>\n",
              "      <td>1</td>\n",
              "      <td>0</td>\n",
              "      <td>Spanish</td>\n",
              "      <td>Teutons</td>\n",
              "      <td>Spanish</td>\n",
              "      <td>30.816667</td>\n",
              "    </tr>\n",
              "    <tr>\n",
              "      <th>...</th>\n",
              "      <td>...</td>\n",
              "      <td>...</td>\n",
              "      <td>...</td>\n",
              "      <td>...</td>\n",
              "      <td>...</td>\n",
              "      <td>...</td>\n",
              "      <td>...</td>\n",
              "      <td>...</td>\n",
              "      <td>...</td>\n",
              "      <td>...</td>\n",
              "      <td>...</td>\n",
              "    </tr>\n",
              "    <tr>\n",
              "      <th>160645</th>\n",
              "      <td>699.0</td>\n",
              "      <td>14.0</td>\n",
              "      <td>4.0</td>\n",
              "      <td>1326.0</td>\n",
              "      <td>1311.0</td>\n",
              "      <td>0</td>\n",
              "      <td>1</td>\n",
              "      <td>Spanish</td>\n",
              "      <td>Teutons</td>\n",
              "      <td>Teutons</td>\n",
              "      <td>11.650000</td>\n",
              "    </tr>\n",
              "    <tr>\n",
              "      <th>160738</th>\n",
              "      <td>1229.0</td>\n",
              "      <td>14.0</td>\n",
              "      <td>4.0</td>\n",
              "      <td>1238.0</td>\n",
              "      <td>1218.0</td>\n",
              "      <td>1</td>\n",
              "      <td>0</td>\n",
              "      <td>Spanish</td>\n",
              "      <td>Teutons</td>\n",
              "      <td>Spanish</td>\n",
              "      <td>20.483333</td>\n",
              "    </tr>\n",
              "    <tr>\n",
              "      <th>160949</th>\n",
              "      <td>2139.0</td>\n",
              "      <td>14.0</td>\n",
              "      <td>4.0</td>\n",
              "      <td>1377.0</td>\n",
              "      <td>1389.0</td>\n",
              "      <td>0</td>\n",
              "      <td>1</td>\n",
              "      <td>Spanish</td>\n",
              "      <td>Teutons</td>\n",
              "      <td>Teutons</td>\n",
              "      <td>35.650000</td>\n",
              "    </tr>\n",
              "    <tr>\n",
              "      <th>161462</th>\n",
              "      <td>912.0</td>\n",
              "      <td>14.0</td>\n",
              "      <td>4.0</td>\n",
              "      <td>1469.0</td>\n",
              "      <td>1508.0</td>\n",
              "      <td>1</td>\n",
              "      <td>0</td>\n",
              "      <td>Spanish</td>\n",
              "      <td>Teutons</td>\n",
              "      <td>Spanish</td>\n",
              "      <td>15.200000</td>\n",
              "    </tr>\n",
              "    <tr>\n",
              "      <th>161509</th>\n",
              "      <td>1764.0</td>\n",
              "      <td>14.0</td>\n",
              "      <td>4.0</td>\n",
              "      <td>1308.0</td>\n",
              "      <td>1304.0</td>\n",
              "      <td>0</td>\n",
              "      <td>1</td>\n",
              "      <td>Spanish</td>\n",
              "      <td>Teutons</td>\n",
              "      <td>Teutons</td>\n",
              "      <td>29.400000</td>\n",
              "    </tr>\n",
              "  </tbody>\n",
              "</table>\n",
              "<p>131 rows × 11 columns</p>\n",
              "</div>\n",
              "      <button class=\"colab-df-convert\" onclick=\"convertToInteractive('df-7d3f5399-41da-4093-a1c0-5e9a0bca3078')\"\n",
              "              title=\"Convert this dataframe to an interactive table.\"\n",
              "              style=\"display:none;\">\n",
              "        \n",
              "  <svg xmlns=\"http://www.w3.org/2000/svg\" height=\"24px\"viewBox=\"0 0 24 24\"\n",
              "       width=\"24px\">\n",
              "    <path d=\"M0 0h24v24H0V0z\" fill=\"none\"/>\n",
              "    <path d=\"M18.56 5.44l.94 2.06.94-2.06 2.06-.94-2.06-.94-.94-2.06-.94 2.06-2.06.94zm-11 1L8.5 8.5l.94-2.06 2.06-.94-2.06-.94L8.5 2.5l-.94 2.06-2.06.94zm10 10l.94 2.06.94-2.06 2.06-.94-2.06-.94-.94-2.06-.94 2.06-2.06.94z\"/><path d=\"M17.41 7.96l-1.37-1.37c-.4-.4-.92-.59-1.43-.59-.52 0-1.04.2-1.43.59L10.3 9.45l-7.72 7.72c-.78.78-.78 2.05 0 2.83L4 21.41c.39.39.9.59 1.41.59.51 0 1.02-.2 1.41-.59l7.78-7.78 2.81-2.81c.8-.78.8-2.07 0-2.86zM5.41 20L4 18.59l7.72-7.72 1.47 1.35L5.41 20z\"/>\n",
              "  </svg>\n",
              "      </button>\n",
              "      \n",
              "  <style>\n",
              "    .colab-df-container {\n",
              "      display:flex;\n",
              "      flex-wrap:wrap;\n",
              "      gap: 12px;\n",
              "    }\n",
              "\n",
              "    .colab-df-convert {\n",
              "      background-color: #E8F0FE;\n",
              "      border: none;\n",
              "      border-radius: 50%;\n",
              "      cursor: pointer;\n",
              "      display: none;\n",
              "      fill: #1967D2;\n",
              "      height: 32px;\n",
              "      padding: 0 0 0 0;\n",
              "      width: 32px;\n",
              "    }\n",
              "\n",
              "    .colab-df-convert:hover {\n",
              "      background-color: #E2EBFA;\n",
              "      box-shadow: 0px 1px 2px rgba(60, 64, 67, 0.3), 0px 1px 3px 1px rgba(60, 64, 67, 0.15);\n",
              "      fill: #174EA6;\n",
              "    }\n",
              "\n",
              "    [theme=dark] .colab-df-convert {\n",
              "      background-color: #3B4455;\n",
              "      fill: #D2E3FC;\n",
              "    }\n",
              "\n",
              "    [theme=dark] .colab-df-convert:hover {\n",
              "      background-color: #434B5C;\n",
              "      box-shadow: 0px 1px 3px 1px rgba(0, 0, 0, 0.15);\n",
              "      filter: drop-shadow(0px 1px 2px rgba(0, 0, 0, 0.3));\n",
              "      fill: #FFFFFF;\n",
              "    }\n",
              "  </style>\n",
              "\n",
              "      <script>\n",
              "        const buttonEl =\n",
              "          document.querySelector('#df-7d3f5399-41da-4093-a1c0-5e9a0bca3078 button.colab-df-convert');\n",
              "        buttonEl.style.display =\n",
              "          google.colab.kernel.accessAllowed ? 'block' : 'none';\n",
              "\n",
              "        async function convertToInteractive(key) {\n",
              "          const element = document.querySelector('#df-7d3f5399-41da-4093-a1c0-5e9a0bca3078');\n",
              "          const dataTable =\n",
              "            await google.colab.kernel.invokeFunction('convertToInteractive',\n",
              "                                                     [key], {});\n",
              "          if (!dataTable) return;\n",
              "\n",
              "          const docLinkHtml = 'Like what you see? Visit the ' +\n",
              "            '<a target=\"_blank\" href=https://colab.research.google.com/notebooks/data_table.ipynb>data table notebook</a>'\n",
              "            + ' to learn more about interactive tables.';\n",
              "          element.innerHTML = '';\n",
              "          dataTable['output_type'] = 'display_data';\n",
              "          await google.colab.output.renderOutput(dataTable, element);\n",
              "          const docLink = document.createElement('div');\n",
              "          docLink.innerHTML = docLinkHtml;\n",
              "          element.appendChild(docLink);\n",
              "        }\n",
              "      </script>\n",
              "    </div>\n",
              "  </div>\n",
              "  "
            ]
          },
          "metadata": {},
          "execution_count": 104
        }
      ]
    },
    {
      "cell_type": "code",
      "source": [
        "# Single list of civ histograms\n",
        "\n",
        "civs_of_interest = ['Spanish', 'Teutons', 'Turks', 'Hindustanis']\n",
        "histogram_data = civ_matchup_df[civ_matchup_df['civ1_name'].isin(civs_of_interest) & (civ_matchup_df['duration'] < (60 * 60))].copy()\n",
        "histogram_data['minutes'] = histogram_data['duration'] / 60\n",
        "sns.displot(data=histogram_data, x=\"minutes\", col = \"civ1_name\", hue=\"civ1_won\", bins = 20, kde = True, facet_kws = {'sharey': False})\n"
      ],
      "metadata": {
        "colab": {
          "base_uri": "https://localhost:8080/",
          "height": 383
        },
        "id": "zWRxg10HBGSH",
        "outputId": "1c062aaf-d103-4c1b-8e6b-634031d6c142"
      },
      "execution_count": null,
      "outputs": [
        {
          "output_type": "execute_result",
          "data": {
            "text/plain": [
              "<seaborn.axisgrid.FacetGrid at 0x7f9dce5b2590>"
            ]
          },
          "metadata": {},
          "execution_count": 113
        },
        {
          "output_type": "display_data",
          "data": {
            "text/plain": [
              "<Figure size 1494.12x360 with 4 Axes>"
            ],
            "image/png": "[encoded data removed]"
          },
          "metadata": {
            "needs_background": "light"
          }
        }
      ]
    }
  ]
}